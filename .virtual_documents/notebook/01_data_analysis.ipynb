import pandas as pd
import numpy as np
import matplotlib.pyplot as plt
import seaborn as sns



df = pd.read_csv("../data/HR-Employee-Attrition.csv")


df.head()


df.info()


df.describe()


# cleaning
df.isnull().sum()


df.nunique()


df.columns = df.columns.str.strip()


# (EDA)



# Attrition count
sns.countplot(x = 'Attrition', data = df)
plt.title('Employee Attrition Count')


# Attrition by Department
sns.countplot(x = 'Department', hue = 'Attrition' , data = df)
plt.title('Attrition by Department')





# Monthly income distribution
sns.histplot(df["MonthlyIncome"], bins =30, kde=True)
plt.title("Monthly Income Distribution")





# Correlation Heatmap


plt.figure(figsize=(12,6))
sns.heatmap(df.corr(numeric_only=True), cmap='coolwarm', annot=True)
plt.title('Correlation Heatmap')






df.to_csv("../data/cleaned_hr_data.csv", index=False)














# # Count how many employees left
# left_count = df[df['Attrition'] == 'Yes'].shape[0]

# # Total employees
# total_count = df.shape[0]

# # Calculate attrition percentage
# attrition_rate = (left_count / total_count) * 100

# print(f"Attrition Rate: {attrition_rate:.2f}%")

