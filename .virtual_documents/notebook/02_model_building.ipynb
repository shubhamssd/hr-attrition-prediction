import pandas as pd
import numpy as np
from sklearn.model_selection import train_test_split
from sklearn.preprocessing import LabelEncoder
from sklearn.ensemble import RandomForestClassifier
from sklearn.metrics import classification_report, confusion_matrix, accuracy_score
import matplotlib.pyplot as plt
import seaborn as sns
import pickle


df = pd.read_csv('../data/cleaned_hr_data.csv')


df.head()





# # Encode Attrition column
# le = LabelEncoder()
# df['Attrition'] = le.fit_transform(df['Attrition'])


le = LabelEncoder()
df['Attrition'] = le.fit_transform(df['Attrition'])





# # One-hot encode categorical variables
# cat_cols = df.select_dtypes(include='object').columns
# df = pd.get_dummies(df, columns=cat_cols, drop_first=True)


cat_cols = df.select_dtypes(include = 'object').columns
df = pd.get_dummies(df, columns = cat_cols, drop_first = True)





# # Split features and target
# X = df.drop('Attrition', axis=1)
# y = df['Attrition']


x = df.drop('Attrition',axis=1)
y = df['Attrition']


x_train, x_test, y_train, y_test = train_test_split(x,y, test_size = 0.2, random_state = 42)








model = RandomForestClassifier(n_estimators = 100, random_state = 42)
model.fit(x_train, y_train)





y_pred = model.predict(x_test)


print("Accuracy", accuracy_score(y_test, y_pred))


print(classification_report(y_test, y_pred))


cm = confusion_matrix(y_test, y_pred)


sns.heatmap(cm, annot=True, fmt='d', cmap='Blues')
plt.title("Confusion Matrix")








importances = model.feature_importances_
indices = np.argsort(importances)[::-1][:10]
plt.figure(figsize=(10,6))
sns.barplot(x=importances[indices], y=x.columns[indices])
plt.title('Top 10 Important Features')
plt.show()



pickle.dump(model, open('../models/attrition_model.pkl', 'wb'))






